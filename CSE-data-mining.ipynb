{
 "cells": [
  {
   "cell_type": "markdown",
   "id": "c49d3045",
   "metadata": {},
   "source": [
    "# CSE data mining"
   ]
  },
  {
   "cell_type": "code",
   "execution_count": 2,
   "id": "4b7abea8",
   "metadata": {},
   "outputs": [],
   "source": [
    "import numpy as np\n",
    "import pandas as pd\n",
    "import matplotlib.pyplot as plt\n",
    "import seaborn as sns\n",
    "\n",
    "import os"
   ]
  },
  {
   "cell_type": "code",
   "execution_count": 7,
   "id": "97728a79",
   "metadata": {},
   "outputs": [
    {
     "name": "stdout",
     "output_type": "stream",
     "text": [
      "total 8172\r\n",
      "-rw-rw-r-- 1 igodlab igodlab  218448 Apr  7 22:45 Badges.csv\r\n",
      "-rw-rw-r-- 1 igodlab igodlab  452605 Apr  7 22:45 Comments.csv\r\n",
      "-rw-rw-r-- 1 igodlab igodlab 3882056 Apr  7 22:45 PostHistory.csv\r\n",
      "-rw-rw-r-- 1 igodlab igodlab    4333 Apr  7 22:45 PostLinks.csv\r\n",
      "-rw-rw-r-- 1 igodlab igodlab 2436073 Apr  7 22:45 Posts.csv\r\n",
      "-rw-rw-r-- 1 igodlab igodlab    4438 Apr  7 22:45 Tags.csv\r\n",
      "-rw-rw-r-- 1 igodlab igodlab  997947 Apr  7 22:45 Users.csv\r\n",
      "-rw-rw-r-- 1 igodlab igodlab  352828 Apr  7 22:45 Votes.csv\r\n"
     ]
    }
   ],
   "source": [
    "!ls -l data/output/"
   ]
  },
  {
   "cell_type": "code",
   "execution_count": 13,
   "id": "f369c08f",
   "metadata": {},
   "outputs": [
    {
     "data": {
      "text/plain": [
       "'data/output.csb'"
      ]
     },
     "execution_count": 13,
     "metadata": {},
     "output_type": "execute_result"
    }
   ],
   "source": [
    "fpath = os.path.join(\"data\", \"output\")\n",
    "fpath + \".csb\""
   ]
  },
  {
   "cell_type": "code",
   "execution_count": 14,
   "id": "8ada197d",
   "metadata": {},
   "outputs": [
    {
     "name": "stdout",
     "output_type": "stream",
     "text": [
      "Badges.csv loaded!\n",
      "Comments.csv loaded!\n",
      "PostHistory.csv loaded!\n",
      "PostLinks.csv loaded!\n",
      "Posts.csv loaded!\n",
      "Tags.csv loaded!\n",
      "Users.csv loaded!\n",
      "Votes.csv loaded!\n"
     ]
    }
   ],
   "source": [
    "# load data\n",
    "fpath = os.path.join(\"data\", \"output\")\n",
    "tables = [\"Badges\", \"Comments\", \"PostHistory\", \"PostLinks\", \"Posts\", \"Tags\", \"Users\", \"Votes\"]\n",
    "\n",
    "# load everything\n",
    "data = {}\n",
    "\n",
    "for tab in tables:\n",
    "    fname_i = os.path.join(fpath, tab + \".csv\")\n",
    "    data[tab] = pd.read_csv(fname_i)\n",
    "    print(tab + \".csv loaded!\")"
   ]
  },
  {
   "cell_type": "code",
   "execution_count": 19,
   "id": "9deb12d5",
   "metadata": {},
   "outputs": [
    {
     "data": {
      "text/html": [
       "<div>\n",
       "<style scoped>\n",
       "    .dataframe tbody tr th:only-of-type {\n",
       "        vertical-align: middle;\n",
       "    }\n",
       "\n",
       "    .dataframe tbody tr th {\n",
       "        vertical-align: top;\n",
       "    }\n",
       "\n",
       "    .dataframe thead th {\n",
       "        text-align: right;\n",
       "    }\n",
       "</style>\n",
       "<table border=\"1\" class=\"dataframe\">\n",
       "  <thead>\n",
       "    <tr style=\"text-align: right;\">\n",
       "      <th></th>\n",
       "      <th>Id</th>\n",
       "      <th>PostTypeId</th>\n",
       "      <th>ParentId</th>\n",
       "      <th>AcceptedAnswerId</th>\n",
       "      <th>CreationDate</th>\n",
       "      <th>Score</th>\n",
       "      <th>ViewCount</th>\n",
       "      <th>Body</th>\n",
       "      <th>OwnerUserId</th>\n",
       "      <th>LastActivityDate</th>\n",
       "      <th>Title</th>\n",
       "      <th>Tags</th>\n",
       "      <th>AnswerCount</th>\n",
       "      <th>CommentCount</th>\n",
       "      <th>FavoriteCount</th>\n",
       "      <th>ContentLicense</th>\n",
       "    </tr>\n",
       "  </thead>\n",
       "  <tbody>\n",
       "    <tr>\n",
       "      <th>2625</th>\n",
       "      <td>4801</td>\n",
       "      <td>2</td>\n",
       "      <td>4797.0</td>\n",
       "      <td>NaN</td>\n",
       "      <td>2021-12-04T08:10:12.470</td>\n",
       "      <td>1</td>\n",
       "      <td>NaN</td>\n",
       "      <td>&lt;p&gt;This script can be useful for you &lt;a href=\"...</td>\n",
       "      <td>127.0</td>\n",
       "      <td>2021-12-04T08:10:12.470</td>\n",
       "      <td>NaN</td>\n",
       "      <td>NaN</td>\n",
       "      <td>NaN</td>\n",
       "      <td>0</td>\n",
       "      <td>NaN</td>\n",
       "      <td>CC BY-SA 4.0</td>\n",
       "    </tr>\n",
       "    <tr>\n",
       "      <th>2626</th>\n",
       "      <td>4802</td>\n",
       "      <td>2</td>\n",
       "      <td>4777.0</td>\n",
       "      <td>NaN</td>\n",
       "      <td>2021-12-04T10:53:47.213</td>\n",
       "      <td>1</td>\n",
       "      <td>NaN</td>\n",
       "      <td>&lt;p&gt;Upgrade-able network parameters are modifie...</td>\n",
       "      <td>115.0</td>\n",
       "      <td>2021-12-04T10:53:47.213</td>\n",
       "      <td>NaN</td>\n",
       "      <td>NaN</td>\n",
       "      <td>NaN</td>\n",
       "      <td>0</td>\n",
       "      <td>NaN</td>\n",
       "      <td>CC BY-SA 4.0</td>\n",
       "    </tr>\n",
       "    <tr>\n",
       "      <th>2627</th>\n",
       "      <td>4803</td>\n",
       "      <td>2</td>\n",
       "      <td>4792.0</td>\n",
       "      <td>NaN</td>\n",
       "      <td>2021-12-04T16:12:56.720</td>\n",
       "      <td>0</td>\n",
       "      <td>NaN</td>\n",
       "      <td>&lt;p&gt;The &lt;strong&gt;best&lt;/strong&gt; way to &lt;em&gt;verify...</td>\n",
       "      <td>4302.0</td>\n",
       "      <td>2021-12-04T16:19:39.390</td>\n",
       "      <td>NaN</td>\n",
       "      <td>NaN</td>\n",
       "      <td>NaN</td>\n",
       "      <td>0</td>\n",
       "      <td>NaN</td>\n",
       "      <td>CC BY-SA 4.0</td>\n",
       "    </tr>\n",
       "    <tr>\n",
       "      <th>2628</th>\n",
       "      <td>4804</td>\n",
       "      <td>1</td>\n",
       "      <td>NaN</td>\n",
       "      <td>NaN</td>\n",
       "      <td>2021-12-04T18:17:51.077</td>\n",
       "      <td>0</td>\n",
       "      <td>4.0</td>\n",
       "      <td>&lt;p&gt;I'm trying to use a library to access a car...</td>\n",
       "      <td>2103.0</td>\n",
       "      <td>2021-12-04T18:17:51.077</td>\n",
       "      <td>Webpack + Cardano ASM serialization library</td>\n",
       "      <td>&lt;nami-wallet&gt;</td>\n",
       "      <td>0.0</td>\n",
       "      <td>1</td>\n",
       "      <td>NaN</td>\n",
       "      <td>CC BY-SA 4.0</td>\n",
       "    </tr>\n",
       "    <tr>\n",
       "      <th>2629</th>\n",
       "      <td>4805</td>\n",
       "      <td>2</td>\n",
       "      <td>4788.0</td>\n",
       "      <td>NaN</td>\n",
       "      <td>2021-12-04T20:03:40.630</td>\n",
       "      <td>0</td>\n",
       "      <td>NaN</td>\n",
       "      <td>&lt;p&gt;Try this one: utxo.input().transaction_id()...</td>\n",
       "      <td>2068.0</td>\n",
       "      <td>2021-12-04T20:03:40.630</td>\n",
       "      <td>NaN</td>\n",
       "      <td>NaN</td>\n",
       "      <td>NaN</td>\n",
       "      <td>0</td>\n",
       "      <td>NaN</td>\n",
       "      <td>CC BY-SA 4.0</td>\n",
       "    </tr>\n",
       "  </tbody>\n",
       "</table>\n",
       "</div>"
      ],
      "text/plain": [
       "        Id  PostTypeId  ParentId  AcceptedAnswerId             CreationDate  \\\n",
       "2625  4801           2    4797.0               NaN  2021-12-04T08:10:12.470   \n",
       "2626  4802           2    4777.0               NaN  2021-12-04T10:53:47.213   \n",
       "2627  4803           2    4792.0               NaN  2021-12-04T16:12:56.720   \n",
       "2628  4804           1       NaN               NaN  2021-12-04T18:17:51.077   \n",
       "2629  4805           2    4788.0               NaN  2021-12-04T20:03:40.630   \n",
       "\n",
       "      Score  ViewCount                                               Body  \\\n",
       "2625      1        NaN  <p>This script can be useful for you <a href=\"...   \n",
       "2626      1        NaN  <p>Upgrade-able network parameters are modifie...   \n",
       "2627      0        NaN  <p>The <strong>best</strong> way to <em>verify...   \n",
       "2628      0        4.0  <p>I'm trying to use a library to access a car...   \n",
       "2629      0        NaN  <p>Try this one: utxo.input().transaction_id()...   \n",
       "\n",
       "      OwnerUserId         LastActivityDate  \\\n",
       "2625        127.0  2021-12-04T08:10:12.470   \n",
       "2626        115.0  2021-12-04T10:53:47.213   \n",
       "2627       4302.0  2021-12-04T16:19:39.390   \n",
       "2628       2103.0  2021-12-04T18:17:51.077   \n",
       "2629       2068.0  2021-12-04T20:03:40.630   \n",
       "\n",
       "                                            Title           Tags  AnswerCount  \\\n",
       "2625                                          NaN            NaN          NaN   \n",
       "2626                                          NaN            NaN          NaN   \n",
       "2627                                          NaN            NaN          NaN   \n",
       "2628  Webpack + Cardano ASM serialization library  <nami-wallet>          0.0   \n",
       "2629                                          NaN            NaN          NaN   \n",
       "\n",
       "      CommentCount  FavoriteCount ContentLicense  \n",
       "2625             0            NaN   CC BY-SA 4.0  \n",
       "2626             0            NaN   CC BY-SA 4.0  \n",
       "2627             0            NaN   CC BY-SA 4.0  \n",
       "2628             1            NaN   CC BY-SA 4.0  \n",
       "2629             0            NaN   CC BY-SA 4.0  "
      ]
     },
     "execution_count": 19,
     "metadata": {},
     "output_type": "execute_result"
    }
   ],
   "source": [
    "data[\"Posts\"].tail()"
   ]
  },
  {
   "cell_type": "code",
   "execution_count": null,
   "id": "cbfc06ac",
   "metadata": {},
   "outputs": [],
   "source": []
  }
 ],
 "metadata": {
  "kernelspec": {
   "display_name": "Python 3 (ipykernel)",
   "language": "python",
   "name": "python3"
  },
  "language_info": {
   "codemirror_mode": {
    "name": "ipython",
    "version": 3
   },
   "file_extension": ".py",
   "mimetype": "text/x-python",
   "name": "python",
   "nbconvert_exporter": "python",
   "pygments_lexer": "ipython3",
   "version": "3.8.8"
  }
 },
 "nbformat": 4,
 "nbformat_minor": 5
}
